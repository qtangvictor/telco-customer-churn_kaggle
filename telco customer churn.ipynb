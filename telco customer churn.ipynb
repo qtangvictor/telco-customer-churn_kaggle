{
 "cells": [
  {
   "cell_type": "code",
   "execution_count": 182,
   "metadata": {
    "ExecuteTime": {
     "end_time": "2020-07-17T19:23:05.519565Z",
     "start_time": "2020-07-17T19:23:05.475535Z"
    }
   },
   "outputs": [],
   "source": [
    "import pandas as pd \n",
    "import numpy as np\n",
    "import os \n",
    "import seaborn as sns\n",
    "import matplotlib.pyplot as plt\n",
    "%matplotlib inline\n",
    "import warnings \n",
    "warnings.filterwarnings('ignore')\n",
    "#filepath='C:\\\\Users\\\\qian\\\\Desktop\\\\python\\\\DATA SCIENTIST\\\\Kaggle\\\\telco customer churn\\\\input'\n",
    "filepath='C:\\\\Users\\\\LiuMingyue\\\\Desktop\\\\telco customer churn\\\\input'\n",
    "os.chdir(filepath)\n",
    "df=pd.read_csv('datasets_13996_18858_WA_Fn-UseC_-Telco-Customer-Churn.csv')\n",
    "pd.set_option('display.max_rows', None)\n",
    "pd.set_option('display.max_columns', None)\n",
    "#df_test=pd.read_csv('test.csv')"
   ]
  },
  {
   "cell_type": "code",
   "execution_count": 2,
   "metadata": {
    "ExecuteTime": {
     "end_time": "2020-07-14T16:05:46.251173Z",
     "start_time": "2020-07-14T16:05:46.215193Z"
    }
   },
   "outputs": [
    {
     "name": "stdout",
     "output_type": "stream",
     "text": [
      "<class 'pandas.core.frame.DataFrame'>\n",
      "RangeIndex: 7043 entries, 0 to 7042\n",
      "Data columns (total 21 columns):\n",
      " #   Column            Non-Null Count  Dtype  \n",
      "---  ------            --------------  -----  \n",
      " 0   customerID        7043 non-null   object \n",
      " 1   gender            7043 non-null   object \n",
      " 2   SeniorCitizen     7043 non-null   int64  \n",
      " 3   Partner           7043 non-null   object \n",
      " 4   Dependents        7043 non-null   object \n",
      " 5   tenure            7043 non-null   int64  \n",
      " 6   PhoneService      7043 non-null   object \n",
      " 7   MultipleLines     7043 non-null   object \n",
      " 8   InternetService   7043 non-null   object \n",
      " 9   OnlineSecurity    7043 non-null   object \n",
      " 10  OnlineBackup      7043 non-null   object \n",
      " 11  DeviceProtection  7043 non-null   object \n",
      " 12  TechSupport       7043 non-null   object \n",
      " 13  StreamingTV       7043 non-null   object \n",
      " 14  StreamingMovies   7043 non-null   object \n",
      " 15  Contract          7043 non-null   object \n",
      " 16  PaperlessBilling  7043 non-null   object \n",
      " 17  PaymentMethod     7043 non-null   object \n",
      " 18  MonthlyCharges    7043 non-null   float64\n",
      " 19  TotalCharges      7043 non-null   object \n",
      " 20  Churn             7043 non-null   object \n",
      "dtypes: float64(1), int64(2), object(18)\n",
      "memory usage: 1.1+ MB\n"
     ]
    }
   ],
   "source": [
    "df.info()"
   ]
  },
  {
   "cell_type": "markdown",
   "metadata": {},
   "source": [
    "Tenure is the period that customer has stayed with company. Assume TotalCharges=Tenure*MonthlyCharge. <br>\n",
    "To verify it, calculate the correlation coefficient of them"
   ]
  },
  {
   "cell_type": "code",
   "execution_count": 3,
   "metadata": {
    "ExecuteTime": {
     "end_time": "2020-07-14T18:16:40.682482Z",
     "start_time": "2020-07-14T18:16:40.507434Z"
    }
   },
   "outputs": [
    {
     "data": {
      "text/plain": [
       "0.9995605537972277"
      ]
     },
     "execution_count": 3,
     "metadata": {},
     "output_type": "execute_result"
    }
   ],
   "source": [
    "TotalCharges_cal=df.tenure*df.MonthlyCharges\n",
    "TotalCharges_cal.corr(df.TotalCharges.map(lambda x:0 if x.isspace() else float(x)))"
   ]
  },
  {
   "cell_type": "markdown",
   "metadata": {},
   "source": [
    "Correlation coefficient is close to 1. It means assumption is right "
   ]
  },
  {
   "cell_type": "code",
   "execution_count": 183,
   "metadata": {
    "ExecuteTime": {
     "end_time": "2020-07-17T19:23:31.630541Z",
     "start_time": "2020-07-17T19:23:31.609509Z"
    }
   },
   "outputs": [],
   "source": [
    "#Replacing spaces with null values in total charges column\n",
    "df['TotalCharges'] = df[\"TotalCharges\"].replace(\" \",np.nan)\n",
    "df = df[df[\"TotalCharges\"].notnull()]\n",
    "df = df.reset_index()[df.columns]\n",
    "\n",
    "#convert to float type\n",
    "df[\"TotalCharges\"] = df[\"TotalCharges\"].astype(float)"
   ]
  },
  {
   "cell_type": "markdown",
   "metadata": {},
   "source": [
    "# split the data into training and test "
   ]
  },
  {
   "cell_type": "code",
   "execution_count": 184,
   "metadata": {
    "ExecuteTime": {
     "end_time": "2020-07-17T19:23:35.546998Z",
     "start_time": "2020-07-17T19:23:35.525969Z"
    }
   },
   "outputs": [],
   "source": [
    "from sklearn.model_selection import train_test_split\n",
    "df_x=df.loc[:,'gender':'TotalCharges']\n",
    "df_y=df.Churn.map(lambda x:1 if x=='Yes' else 0)\n",
    "x_train, x_test, y_train, y_test = train_test_split(df_x,df_y,test_size=0.2,random_state=1)"
   ]
  },
  {
   "cell_type": "markdown",
   "metadata": {},
   "source": [
    "# Data visualization"
   ]
  },
  {
   "cell_type": "code",
   "execution_count": 18,
   "metadata": {
    "ExecuteTime": {
     "end_time": "2020-07-14T18:51:30.063141Z",
     "start_time": "2020-07-14T18:51:25.015214Z"
    }
   },
   "outputs": [
    {
     "data": {
      "text/plain": [
       "<matplotlib.axes._subplots.AxesSubplot at 0x27671013bc8>"
      ]
     },
     "execution_count": 18,
     "metadata": {},
     "output_type": "execute_result"
    },
    {
     "data": {
      "image/png": "[encoded data removed]",
      "text/plain": [
       "<Figure size 432x288 with 1 Axes>"
      ]
     },
     "metadata": {
      "needs_background": "light"
     },
     "output_type": "display_data"
    }
   ],
   "source": [
    "#sns.pairplot(pd.concat([x_train,y_train],axis=1),x_vars=['tenure'],y_vars=['Churn'])\n",
    "pd.crosstab(x_train.Contract,y_train).plot.bar(stacked=True)"
   ]
  },
  {
   "cell_type": "markdown",
   "metadata": {},
   "source": [
    "Contract type affect Churn rate significantly. Month-to-month customers are much more likely to leave than the other two contracts"
   ]
  },
  {
   "cell_type": "code",
   "execution_count": 31,
   "metadata": {},
   "outputs": [
    {
     "data": {
      "text/plain": [
       "<matplotlib.axes._subplots.AxesSubplot at 0x2767118a648>"
      ]
     },
     "execution_count": 31,
     "metadata": {},
     "output_type": "execute_result"
    },
    {
     "data": {
      "image/png": "[encoded data removed]",
      "text/plain": [
       "<Figure size 432x288 with 1 Axes>"
      ]
     },
     "metadata": {
      "needs_background": "light"
     },
     "output_type": "display_data"
    },
    {
     "data": {
      "image/png": "[encoded data removed]",
      "text/plain": [
       "<Figure size 432x288 with 1 Axes>"
      ]
     },
     "metadata": {
      "needs_background": "light"
     },
     "output_type": "display_data"
    }
   ],
   "source": [
    "#plt.figure\n",
    "#plt.figure()\n",
    "#plt.subplot(1,2,1)\n",
    "pd.crosstab(x_train.Partner,y_train).plot.bar(stacked=True)\n",
    "#plt.show()\n",
    "#plt.subplot(1,2,2)\n",
    "pd.crosstab(x_train.Dependents,y_train).plot.bar(stacked=True)"
   ]
  },
  {
   "cell_type": "markdown",
   "metadata": {},
   "source": [
    "Partner and dependents have similar impact on the result. Customers without partner/dependents are more likely to quit"
   ]
  },
  {
   "cell_type": "code",
   "execution_count": 36,
   "metadata": {},
   "outputs": [
    {
     "data": {
      "text/plain": [
       "<matplotlib.axes._subplots.AxesSubplot at 0x27671a22fc8>"
      ]
     },
     "execution_count": 36,
     "metadata": {},
     "output_type": "execute_result"
    },
    {
     "data": {
      "image/png": "[encoded data removed]",
      "text/plain": [
       "<Figure size 432x288 with 1 Axes>"
      ]
     },
     "metadata": {
      "needs_background": "light"
     },
     "output_type": "display_data"
    }
   ],
   "source": [
    "pd.crosstab(x_train.PaperlessBilling,y_train).plot.bar(stacked=True)\n",
    "\n"
   ]
  },
  {
   "cell_type": "code",
   "execution_count": 37,
   "metadata": {},
   "outputs": [
    {
     "data": {
      "text/plain": [
       "<matplotlib.axes._subplots.AxesSubplot at 0x27671ab5dc8>"
      ]
     },
     "execution_count": 37,
     "metadata": {},
     "output_type": "execute_result"
    },
    {
     "data": {
      "image/png": "[encoded data removed]",
      "text/plain": [
       "<Figure size 432x288 with 1 Axes>"
      ]
     },
     "metadata": {
      "needs_background": "light"
     },
     "output_type": "display_data"
    }
   ],
   "source": [
    "pd.crosstab(x_train.PaymentMethod,y_train).plot.bar(stacked=True)\n"
   ]
  },
  {
   "cell_type": "code",
   "execution_count": 44,
   "metadata": {},
   "outputs": [
    {
     "data": {
      "text/plain": [
       "<matplotlib.axes._subplots.AxesSubplot at 0x27673f9e488>"
      ]
     },
     "execution_count": 44,
     "metadata": {},
     "output_type": "execute_result"
    },
    {
     "data": {
      "image/png": "[encoded data removed]",
      "text/plain": [
       "<Figure size 432x288 with 1 Axes>"
      ]
     },
     "metadata": {
      "needs_background": "light"
     },
     "output_type": "display_data"
    },
    {
     "data": {
      "image/png": "[encoded data removed]",
      "text/plain": [
       "<Figure size 432x288 with 1 Axes>"
      ]
     },
     "metadata": {
      "needs_background": "light"
     },
     "output_type": "display_data"
    },
    {
     "data": {
      "image/png": "[encoded data removed]",
      "text/plain": [
       "<Figure size 432x288 with 1 Axes>"
      ]
     },
     "metadata": {
      "needs_background": "light"
     },
     "output_type": "display_data"
    },
    {
     "data": {
      "image/png": "[encoded data removed]",
      "text/plain": [
       "<Figure size 432x288 with 1 Axes>"
      ]
     },
     "metadata": {
      "needs_background": "light"
     },
     "output_type": "display_data"
    },
    {
     "data": {
      "image/png": "[encoded data removed]",
      "text/plain": [
       "<Figure size 432x288 with 1 Axes>"
      ]
     },
     "metadata": {
      "needs_background": "light"
     },
     "output_type": "display_data"
    },
    {
     "data": {
      "image/png": "[encoded data removed]",
      "text/plain": [
       "<Figure size 432x288 with 1 Axes>"
      ]
     },
     "metadata": {
      "needs_background": "light"
     },
     "output_type": "display_data"
    },
    {
     "data": {
      "image/png": "[encoded data removed]",
      "text/plain": [
       "<Figure size 432x288 with 1 Axes>"
      ]
     },
     "metadata": {
      "needs_background": "light"
     },
     "output_type": "display_data"
    }
   ],
   "source": [
    "pd.crosstab(x_train.InternetService,y_train).plot.bar(stacked=True)\n",
    "pd.crosstab(x_train.OnlineSecurity,y_train).plot.bar(stacked=True)\n",
    "pd.crosstab(x_train.OnlineBackup,y_train).plot.bar(stacked=True)\n",
    "pd.crosstab(x_train.DeviceProtection,y_train).plot.bar(stacked=True)\n",
    "pd.crosstab(x_train.TechSupport,y_train).plot.bar(stacked=True)\n",
    "pd.crosstab(x_train.StreamingTV,y_train).plot.bar(stacked=True)\n",
    "pd.crosstab(x_train.StreamingMovies,y_train).plot.bar(stacked=True)\n",
    "\n",
    "\n",
    "\n"
   ]
  },
  {
   "cell_type": "markdown",
   "metadata": {},
   "source": [
    "Combine internet related data to see how it relates to churn\n",
    "It turns out that four internet service shows similar tread: the more service a customer has, the less likely he would leave. <br>\n",
    "And two streaming services are similar:no obvious pattern</font>"
   ]
  },
  {
   "cell_type": "code",
   "execution_count": 72,
   "metadata": {
    "ExecuteTime": {
     "end_time": "2020-07-15T15:48:43.922866Z",
     "start_time": "2020-07-15T15:48:43.429533Z"
    }
   },
   "outputs": [
    {
     "data": {
      "text/plain": [
       "<matplotlib.axes._subplots.AxesSubplot at 0x169efb19e48>"
      ]
     },
     "execution_count": 72,
     "metadata": {},
     "output_type": "execute_result"
    },
    {
     "data": {
      "image/png": "[encoded data removed]",
      "text/plain": [
       "<Figure size 432x288 with 1 Axes>"
      ]
     },
     "metadata": {
      "needs_background": "light"
     },
     "output_type": "display_data"
    }
   ],
   "source": [
    "cols=['OnlineSecurity','OnlineBackup','DeviceProtection','TechSupport'] #'StreamingTV','StreamingMovies'\n",
    "#cols=['StreamingTV','StreamingMovies']\n",
    "internet_event = None\n",
    "for i in cols:\n",
    "    tmp=x_train[i].replace('Yes',1)\n",
    "    tmp=tmp.replace('No',0)\n",
    "    tmp=tmp.replace('No internet service',-1)\n",
    "    if internet_event is None:\n",
    "        internet_event = tmp\n",
    "    else:\n",
    "        internet_event = pd.concat([internet_event,tmp],axis=1)    \n",
    "internet_event['row_sum'] = internet_event.apply(lambda x:x.sum(),axis=1)\n",
    "pd.crosstab(internet_event['row_sum'],y_train).plot.bar(stacked=True)\n"
   ]
  },
  {
   "cell_type": "markdown",
   "metadata": {},
   "source": [
    "Discrete tenure into categorial value ( 0-1,2-9,10-19,20-39,40+) <br>    \n",
    "We can find that the longer the customer stays, the less likely he will quit. "
   ]
  },
  {
   "cell_type": "code",
   "execution_count": 13,
   "metadata": {
    "ExecuteTime": {
     "end_time": "2020-07-15T00:09:01.537917Z",
     "start_time": "2020-07-15T00:09:01.400822Z"
    }
   },
   "outputs": [
    {
     "data": {
      "text/plain": [
       "<matplotlib.axes._subplots.AxesSubplot at 0x169e3cf2cc8>"
      ]
     },
     "execution_count": 13,
     "metadata": {},
     "output_type": "execute_result"
    },
    {
     "data": {
      "image/png": "[encoded data removed]",
      "text/plain": [
       "<Figure size 432x288 with 1 Axes>"
      ]
     },
     "metadata": {
      "needs_background": "light"
     },
     "output_type": "display_data"
    }
   ],
   "source": [
    "#pd.crosstab(x_train.tenure,y_train).plot.bar(stacked=True)\n",
    "#sns.distplot(x_train.tenure)\n",
    "def discret(x):\n",
    "    if x<2:\n",
    "        return 1\n",
    "    elif x<10:\n",
    "        return 2\n",
    "    elif x<20:\n",
    "        return 3\n",
    "    elif x<40:\n",
    "        return 4\n",
    "    else:\n",
    "        return 5\n",
    "tenure_group=x_train.tenure.map(discret)\n",
    "pd.crosstab(tenure_group,y_train).plot.bar(stacked=True)"
   ]
  },
  {
   "cell_type": "markdown",
   "metadata": {},
   "source": [
    "Discrete MonthlyCharges into categorial value ( 0-35,35-70,70+)    <br>\n",
    "We can find that the more money the customer pays, the more likely he will quit."
   ]
  },
  {
   "cell_type": "code",
   "execution_count": 19,
   "metadata": {
    "ExecuteTime": {
     "end_time": "2020-07-15T00:33:11.996401Z",
     "start_time": "2020-07-15T00:33:11.864309Z"
    }
   },
   "outputs": [
    {
     "data": {
      "text/plain": [
       "<matplotlib.axes._subplots.AxesSubplot at 0x169ebf0d788>"
      ]
     },
     "execution_count": 19,
     "metadata": {},
     "output_type": "execute_result"
    },
    {
     "data": {
      "image/png": "[encoded data removed]",
      "text/plain": [
       "<Figure size 432x288 with 1 Axes>"
      ]
     },
     "metadata": {
      "needs_background": "light"
     },
     "output_type": "display_data"
    }
   ],
   "source": [
    "#pd.crosstab(x_train.MonthlyCharges,y_train).plot.bar(stacked=True)\n",
    "#sns.distplot(x_train.MonthlyCharges)\n",
    "#x_train.MonthlyCharges.describe()\n",
    "def discret(x):\n",
    "    if x<35:\n",
    "        return 1\n",
    "    elif x<70:\n",
    "        return 2\n",
    "    else:\n",
    "        return 3\n",
    "\n",
    "MonthlyCharges_group=x_train.MonthlyCharges.map(discret)\n",
    "pd.crosstab(MonthlyCharges_group,y_train).plot.bar(stacked=True)"
   ]
  },
  {
   "cell_type": "markdown",
   "metadata": {},
   "source": [
    "# Missing data"
   ]
  },
  {
   "cell_type": "code",
   "execution_count": 43,
   "metadata": {
    "ExecuteTime": {
     "end_time": "2020-07-15T14:14:19.168146Z",
     "start_time": "2020-07-15T14:14:19.159153Z"
    }
   },
   "outputs": [
    {
     "data": {
      "text/plain": [
       "gender              0\n",
       "SeniorCitizen       0\n",
       "Partner             0\n",
       "Dependents          0\n",
       "tenure              0\n",
       "PhoneService        0\n",
       "MultipleLines       0\n",
       "InternetService     0\n",
       "OnlineSecurity      0\n",
       "OnlineBackup        0\n",
       "DeviceProtection    0\n",
       "TechSupport         0\n",
       "StreamingTV         0\n",
       "StreamingMovies     0\n",
       "Contract            0\n",
       "PaperlessBilling    0\n",
       "PaymentMethod       0\n",
       "MonthlyCharges      0\n",
       "TotalCharges        0\n",
       "dtype: int64"
      ]
     },
     "execution_count": 43,
     "metadata": {},
     "output_type": "execute_result"
    }
   ],
   "source": [
    "#x_train.isnull().sum()\n",
    "x_test.isnull().sum()"
   ]
  },
  {
   "cell_type": "markdown",
   "metadata": {},
   "source": [
    "No missing data in both training and test training set."
   ]
  },
  {
   "cell_type": "markdown",
   "metadata": {},
   "source": [
    "# Feature engineering\n",
    "combine partner and dependents <br>\n",
    "combine four internet extra service <br>\n",
    "combine two streaming service <br>\n",
    "combine two phone service (drop phoneservice)<br>\n",
    "drop total charges"
   ]
  },
  {
   "cell_type": "markdown",
   "metadata": {},
   "source": [
    "Transform str to int: gender,partner,dependents, two phone service, seven internet service,contract,paperlessbilling,payment method"
   ]
  },
  {
   "cell_type": "code",
   "execution_count": 185,
   "metadata": {
    "ExecuteTime": {
     "end_time": "2020-07-17T19:24:06.378540Z",
     "start_time": "2020-07-17T19:24:06.299484Z"
    }
   },
   "outputs": [],
   "source": [
    "x_train.loc[:,'gender'] = x_train.gender.map({'Male':0,'Female':1})\n",
    "x_test.loc[:,'gender'] = x_test.gender.map({'Male':0,'Female':1})\n",
    "x_train.loc[:,'Partner'] = x_train.Partner.map({'No':0,'Yes':1})\n",
    "x_test.loc[:,'Partner'] = x_test.Partner.map({'No':0,'Yes':1})\n",
    "x_train.loc[:,'Dependents'] = x_train.Dependents.map({'No':0,'Yes':1})\n",
    "x_test.loc[:,'Dependents'] = x_test.Dependents.map({'No':0,'Yes':1})\n",
    "#x_train.PhoneService = x_train.PhoneService.map({'No':0,'Yes':1})\n",
    "#x_test.PhoneService = x_test.PhoneService.map({'No':0,'Yes':1})\n",
    "x_train.loc[:,'MultipleLines'] = x_train.MultipleLines.map({'No phone service':0,'No':1,'Yes':2})\n",
    "x_test.loc[:,'MultipleLines'] = x_test.MultipleLines.map({'No phone service':0,'No':1,'Yes':2})\n",
    "x_train.loc[:,'InternetService'] = x_train.InternetService.map({'No':0,'Fiber optic':1,'DSL':2})\n",
    "x_test.loc[:,'InternetService'] = x_test.InternetService.map({'No':0,'Fiber optic':1,'DSL':2})\n",
    "x_train.loc[:,'OnlineSecurity'] = x_train.OnlineSecurity.map({'No':0,'No internet service':-1,'Yes':1})\n",
    "x_test.loc[:,'OnlineSecurity'] = x_test.OnlineSecurity.map({'No':0,'No internet service':-1,'Yes':1})\n",
    "x_train.loc[:,'OnlineBackup'] = x_train.OnlineBackup.map({'No':0,'No internet service':-1,'Yes':1})\n",
    "x_test.loc[:,'OnlineBackup'] = x_test.OnlineBackup.map({'No':0,'No internet service':-1,'Yes':1})\n",
    "x_train.loc[:,'DeviceProtection'] = x_train.DeviceProtection.map({'No':0,'No internet service':-1,'Yes':1})\n",
    "x_test.loc[:,'DeviceProtection'] = x_test.DeviceProtection.map({'No':0,'No internet service':-1,'Yes':1})\n",
    "x_train.loc[:,'TechSupport'] = x_train.TechSupport.map({'No':0,'No internet service':-1,'Yes':1})\n",
    "x_test.loc[:,'TechSupport'] = x_test.TechSupport.map({'No':0,'No internet service':-1,'Yes':1})\n",
    "x_train.loc[:,'StreamingTV'] = x_train.StreamingTV.map({'No':0,'No internet service':-1,'Yes':1})\n",
    "x_test.loc[:,'StreamingTV'] = x_test.StreamingTV.map({'No':0,'No internet service':-1,'Yes':1})\n",
    "x_train.loc[:,'StreamingMovies'] = x_train.StreamingMovies.map({'No':0,'No internet service':-1,'Yes':1})\n",
    "x_test.loc[:,'StreamingMovies'] = x_test.StreamingMovies.map({'No':0,'No internet service':-1,'Yes':1})\n",
    "x_train.loc[:,'Contract'] = x_train.Contract.map({'Month-to-month':0,'One year':1,'Two year':2})\n",
    "x_test.loc[:,'Contract'] = x_test.Contract.map({'Month-to-month':0,'One year':1,'Two year':2})\n",
    "x_train.loc[:,'PaperlessBilling'] = x_train.PaperlessBilling.map({'No':0,'Yes':1})\n",
    "x_test.loc[:,'PaperlessBilling'] = x_test.PaperlessBilling.map({'No':0,'Yes':1})\n",
    "x_train.loc[:,'PaymentMethod'] = x_train.PaymentMethod.map({'Electronic check':0,'Mailed check':1,'Bank transfer (automatic)':2,'Credit card (automatic)':3})\n",
    "x_test.loc[:,'PaymentMethod'] = x_test.PaymentMethod.map({'Electronic check':0,'Mailed check':1,'Bank transfer (automatic)':2,'Credit card (automatic)':3})"
   ]
  },
  {
   "cell_type": "code",
   "execution_count": 186,
   "metadata": {
    "ExecuteTime": {
     "end_time": "2020-07-17T19:24:18.660858Z",
     "start_time": "2020-07-17T19:24:18.633823Z"
    }
   },
   "outputs": [],
   "source": [
    "# combine partner and dependents\n",
    "x_train.loc[:,'Part_depend'] = x_train.Partner+x_train.Dependents\n",
    "x_test.loc[:,'Part_depend'] = x_test.Partner+x_test.Dependents\n",
    "\n",
    "# combine four internet extra service\n",
    "x_train.loc[:,'InternetExtra'] = x_train.OnlineSecurity+x_train.OnlineBackup+x_train.DeviceProtection+x_train.TechSupport\n",
    "x_test.loc[:,'InternetExtra'] = x_test.OnlineSecurity+x_test.OnlineBackup+x_test.DeviceProtection+x_test.TechSupport\n",
    "\n",
    "# combine two streaming service\n",
    "x_train.loc[:,'StreamingService'] = x_train.StreamingTV+x_train.StreamingMovies\n",
    "x_test.loc[:,'StreamingService'] = x_test.StreamingTV+x_test.StreamingMovies\n",
    "\n"
   ]
  },
  {
   "cell_type": "code",
   "execution_count": 187,
   "metadata": {
    "ExecuteTime": {
     "end_time": "2020-07-17T19:24:24.774574Z",
     "start_time": "2020-07-17T19:24:24.765568Z"
    }
   },
   "outputs": [],
   "source": [
    "# drop Partner,Dependents,phoneservice, 4 internet service and two streaming service\n",
    "x_train.drop(['Partner', 'Dependents','PhoneService','OnlineSecurity','OnlineBackup','DeviceProtection','TechSupport','StreamingTV','StreamingMovies'], axis=1,inplace=True)\n",
    "x_test.drop(['Partner', 'Dependents','PhoneService','OnlineSecurity','OnlineBackup','DeviceProtection','TechSupport','StreamingTV','StreamingMovies'], axis=1,inplace=True)"
   ]
  },
  {
   "cell_type": "code",
   "execution_count": 192,
   "metadata": {
    "ExecuteTime": {
     "end_time": "2020-07-17T19:31:23.452588Z",
     "start_time": "2020-07-17T19:31:23.435565Z"
    }
   },
   "outputs": [
    {
     "data": {
      "text/html": [
       "<div>\n",
       "<style scoped>\n",
       "    .dataframe tbody tr th:only-of-type {\n",
       "        vertical-align: middle;\n",
       "    }\n",
       "\n",
       "    .dataframe tbody tr th {\n",
       "        vertical-align: top;\n",
       "    }\n",
       "\n",
       "    .dataframe thead th {\n",
       "        text-align: right;\n",
       "    }\n",
       "</style>\n",
       "<table border=\"1\" class=\"dataframe\">\n",
       "  <thead>\n",
       "    <tr style=\"text-align: right;\">\n",
       "      <th></th>\n",
       "      <th>gender</th>\n",
       "      <th>SeniorCitizen</th>\n",
       "      <th>tenure</th>\n",
       "      <th>MultipleLines</th>\n",
       "      <th>InternetService</th>\n",
       "      <th>Contract</th>\n",
       "      <th>PaperlessBilling</th>\n",
       "      <th>PaymentMethod</th>\n",
       "      <th>MonthlyCharges</th>\n",
       "      <th>TotalCharges</th>\n",
       "      <th>Part_depend</th>\n",
       "      <th>InternetExtra</th>\n",
       "      <th>StreamingService</th>\n",
       "    </tr>\n",
       "  </thead>\n",
       "  <tbody>\n",
       "    <tr>\n",
       "      <th>3451</th>\n",
       "      <td>1</td>\n",
       "      <td>0</td>\n",
       "      <td>1</td>\n",
       "      <td>1</td>\n",
       "      <td>0</td>\n",
       "      <td>0</td>\n",
       "      <td>1</td>\n",
       "      <td>1</td>\n",
       "      <td>19.50</td>\n",
       "      <td>19.50</td>\n",
       "      <td>0</td>\n",
       "      <td>-4</td>\n",
       "      <td>-2</td>\n",
       "    </tr>\n",
       "    <tr>\n",
       "      <th>611</th>\n",
       "      <td>0</td>\n",
       "      <td>0</td>\n",
       "      <td>66</td>\n",
       "      <td>1</td>\n",
       "      <td>0</td>\n",
       "      <td>2</td>\n",
       "      <td>0</td>\n",
       "      <td>1</td>\n",
       "      <td>20.55</td>\n",
       "      <td>1357.10</td>\n",
       "      <td>1</td>\n",
       "      <td>-4</td>\n",
       "      <td>-2</td>\n",
       "    </tr>\n",
       "    <tr>\n",
       "      <th>588</th>\n",
       "      <td>0</td>\n",
       "      <td>0</td>\n",
       "      <td>71</td>\n",
       "      <td>2</td>\n",
       "      <td>2</td>\n",
       "      <td>2</td>\n",
       "      <td>0</td>\n",
       "      <td>0</td>\n",
       "      <td>90.40</td>\n",
       "      <td>6668.05</td>\n",
       "      <td>2</td>\n",
       "      <td>4</td>\n",
       "      <td>2</td>\n",
       "    </tr>\n",
       "    <tr>\n",
       "      <th>2680</th>\n",
       "      <td>1</td>\n",
       "      <td>0</td>\n",
       "      <td>72</td>\n",
       "      <td>2</td>\n",
       "      <td>1</td>\n",
       "      <td>2</td>\n",
       "      <td>0</td>\n",
       "      <td>2</td>\n",
       "      <td>100.65</td>\n",
       "      <td>7334.05</td>\n",
       "      <td>1</td>\n",
       "      <td>3</td>\n",
       "      <td>1</td>\n",
       "    </tr>\n",
       "    <tr>\n",
       "      <th>1544</th>\n",
       "      <td>0</td>\n",
       "      <td>0</td>\n",
       "      <td>1</td>\n",
       "      <td>1</td>\n",
       "      <td>2</td>\n",
       "      <td>0</td>\n",
       "      <td>1</td>\n",
       "      <td>1</td>\n",
       "      <td>45.85</td>\n",
       "      <td>45.85</td>\n",
       "      <td>0</td>\n",
       "      <td>0</td>\n",
       "      <td>0</td>\n",
       "    </tr>\n",
       "    <tr>\n",
       "      <th>2883</th>\n",
       "      <td>1</td>\n",
       "      <td>1</td>\n",
       "      <td>1</td>\n",
       "      <td>1</td>\n",
       "      <td>1</td>\n",
       "      <td>0</td>\n",
       "      <td>1</td>\n",
       "      <td>0</td>\n",
       "      <td>71.00</td>\n",
       "      <td>71.00</td>\n",
       "      <td>1</td>\n",
       "      <td>0</td>\n",
       "      <td>0</td>\n",
       "    </tr>\n",
       "    <tr>\n",
       "      <th>1072</th>\n",
       "      <td>1</td>\n",
       "      <td>0</td>\n",
       "      <td>59</td>\n",
       "      <td>2</td>\n",
       "      <td>1</td>\n",
       "      <td>0</td>\n",
       "      <td>1</td>\n",
       "      <td>2</td>\n",
       "      <td>96.65</td>\n",
       "      <td>5580.80</td>\n",
       "      <td>2</td>\n",
       "      <td>2</td>\n",
       "      <td>1</td>\n",
       "    </tr>\n",
       "    <tr>\n",
       "      <th>6926</th>\n",
       "      <td>1</td>\n",
       "      <td>0</td>\n",
       "      <td>28</td>\n",
       "      <td>0</td>\n",
       "      <td>2</td>\n",
       "      <td>0</td>\n",
       "      <td>1</td>\n",
       "      <td>1</td>\n",
       "      <td>35.75</td>\n",
       "      <td>961.40</td>\n",
       "      <td>0</td>\n",
       "      <td>2</td>\n",
       "      <td>0</td>\n",
       "    </tr>\n",
       "    <tr>\n",
       "      <th>6417</th>\n",
       "      <td>1</td>\n",
       "      <td>0</td>\n",
       "      <td>41</td>\n",
       "      <td>1</td>\n",
       "      <td>2</td>\n",
       "      <td>1</td>\n",
       "      <td>0</td>\n",
       "      <td>2</td>\n",
       "      <td>50.05</td>\n",
       "      <td>2029.05</td>\n",
       "      <td>0</td>\n",
       "      <td>1</td>\n",
       "      <td>0</td>\n",
       "    </tr>\n",
       "    <tr>\n",
       "      <th>997</th>\n",
       "      <td>1</td>\n",
       "      <td>0</td>\n",
       "      <td>7</td>\n",
       "      <td>1</td>\n",
       "      <td>1</td>\n",
       "      <td>0</td>\n",
       "      <td>1</td>\n",
       "      <td>0</td>\n",
       "      <td>95.35</td>\n",
       "      <td>660.90</td>\n",
       "      <td>0</td>\n",
       "      <td>1</td>\n",
       "      <td>2</td>\n",
       "    </tr>\n",
       "  </tbody>\n",
       "</table>\n",
       "</div>"
      ],
      "text/plain": [
       "      gender  SeniorCitizen  tenure  MultipleLines  InternetService  Contract  \\\n",
       "3451       1              0       1              1                0         0   \n",
       "611        0              0      66              1                0         2   \n",
       "588        0              0      71              2                2         2   \n",
       "2680       1              0      72              2                1         2   \n",
       "1544       0              0       1              1                2         0   \n",
       "2883       1              1       1              1                1         0   \n",
       "1072       1              0      59              2                1         0   \n",
       "6926       1              0      28              0                2         0   \n",
       "6417       1              0      41              1                2         1   \n",
       "997        1              0       7              1                1         0   \n",
       "\n",
       "      PaperlessBilling  PaymentMethod  MonthlyCharges  TotalCharges  \\\n",
       "3451                 1              1           19.50         19.50   \n",
       "611                  0              1           20.55       1357.10   \n",
       "588                  0              0           90.40       6668.05   \n",
       "2680                 0              2          100.65       7334.05   \n",
       "1544                 1              1           45.85         45.85   \n",
       "2883                 1              0           71.00         71.00   \n",
       "1072                 1              2           96.65       5580.80   \n",
       "6926                 1              1           35.75        961.40   \n",
       "6417                 0              2           50.05       2029.05   \n",
       "997                  1              0           95.35        660.90   \n",
       "\n",
       "      Part_depend  InternetExtra  StreamingService  \n",
       "3451            0             -4                -2  \n",
       "611             1             -4                -2  \n",
       "588             2              4                 2  \n",
       "2680            1              3                 1  \n",
       "1544            0              0                 0  \n",
       "2883            1              0                 0  \n",
       "1072            2              2                 1  \n",
       "6926            0              2                 0  \n",
       "6417            0              1                 0  \n",
       "997             0              1                 2  "
      ]
     },
     "execution_count": 192,
     "metadata": {},
     "output_type": "execute_result"
    }
   ],
   "source": [
    "x_train.head(10)"
   ]
  },
  {
   "cell_type": "markdown",
   "metadata": {
    "ExecuteTime": {
     "end_time": "2020-07-16T14:59:42.791549Z",
     "start_time": "2020-07-16T14:59:42.776536Z"
    }
   },
   "source": [
    "# Training model\n",
    "\n",
    "based on 10-fold cross validation, random forest achieves the highest accuracy rate"
   ]
  },
  {
   "cell_type": "code",
   "execution_count": 189,
   "metadata": {
    "ExecuteTime": {
     "end_time": "2020-07-17T19:24:53.099186Z",
     "start_time": "2020-07-17T19:24:43.061684Z"
    }
   },
   "outputs": [
    {
     "name": "stdout",
     "output_type": "stream",
     "text": [
      "decision tree= 0.722850, random forest=0.798759, logistic regression=0.791293, svm=0.732800\n"
     ]
    }
   ],
   "source": [
    "from sklearn.ensemble import RandomForestClassifier\n",
    "from sklearn.tree import DecisionTreeClassifier\n",
    "from sklearn.linear_model import LogisticRegression\n",
    "from sklearn.svm import SVC\n",
    "from sklearn.model_selection import GridSearchCV\n",
    "from sklearn.model_selection import cross_val_score\n",
    "\n",
    "# decision tree\n",
    "tree_clf = DecisionTreeClassifier()\n",
    "#tree_clf.fit(x_train,y_train)\n",
    "#score_tree = tree_clf.score(x_train,y_train)\n",
    "#score_tree = tree_clf.score(x_test,y_test)\n",
    "score_tree = cross_val_score(tree_clf, x_train, y_train, cv=10)\n",
    "\n",
    "#random forest\n",
    "forest_clf = RandomForestClassifier(n_estimators=100,max_depth=5,random_state=1)\n",
    "#forest_clf.fit(x_train,y_train)\n",
    "#score_forest = forest_clf.score(x_train,y_train)\n",
    "#score_forest = forest_clf.score(x_test,y_test)\n",
    "score_forest = cross_val_score(forest_clf, x_train, y_train, cv=10)\n",
    "\n",
    "# logistic regression\n",
    "lr_clf = LogisticRegression()\n",
    "#lr_clf.fit(x_train,y_train)\n",
    "#score_lr = lr_clf.score(x_train,y_train)\n",
    "#score_lr = lr_clf.score(x_test,y_test)\n",
    "score_lr = cross_val_score(lr_clf, x_train, y_train, cv=10)\n",
    "\n",
    "#svm\n",
    "svm_clf = SVC()\n",
    "#svm_clf.fit(x_train,y_train)\n",
    "#score_svm = svm_clf.score(x_train,y_train)\n",
    "#score_svm = svm_clf.score(x_test,y_test)\n",
    "score_svm = cross_val_score(svm_clf, x_train, y_train, cv=10)\n",
    "\n",
    "print('decision tree= %f, random forest=%f, logistic regression=%f, svm=%f' % (score_tree.mean(), score_forest.mean(),score_lr.mean(),score_svm.mean()))"
   ]
  },
  {
   "cell_type": "code",
   "execution_count": 190,
   "metadata": {
    "ExecuteTime": {
     "end_time": "2020-07-17T19:27:53.100435Z",
     "start_time": "2020-07-17T19:27:14.401948Z"
    }
   },
   "outputs": [
    {
     "data": {
      "text/plain": [
       "0.8000034765459569"
      ]
     },
     "execution_count": 190,
     "metadata": {},
     "output_type": "execute_result"
    }
   ],
   "source": [
    "# try to find the best hyper parameter for random forest\n",
    "RF = RandomForestClassifier(random_state=1)\n",
    "RF_para={'n_estimators':[10,50,100],'max_depth':[1,2,3,4,5],'criterion':['gini','entropy']}\n",
    "GSRF = GridSearchCV(RF,RF_para,scoring='accuracy',cv=10)\n",
    "GSRF.fit(x_train,y_train)\n",
    "GSRF.best_score_\n",
    "# find the best paras of gini,n_estimators=50,max_depth=5\n",
    "\n"
   ]
  },
  {
   "cell_type": "code",
   "execution_count": 191,
   "metadata": {
    "ExecuteTime": {
     "end_time": "2020-07-17T19:28:07.454309Z",
     "start_time": "2020-07-17T19:28:07.436284Z"
    }
   },
   "outputs": [
    {
     "data": {
      "text/plain": [
       "0.798862828713575"
      ]
     },
     "execution_count": 191,
     "metadata": {},
     "output_type": "execute_result"
    }
   ],
   "source": [
    "from sklearn.metrics import accuracy_score\n",
    "#predict test\n",
    "pred = GSRF.predict(x_test)\n",
    "accuracy_score(y_test,pred)"
   ]
  }
 ],
 "metadata": {
  "kernelspec": {
   "display_name": "Python 3",
   "language": "python",
   "name": "python3"
  },
  "language_info": {
   "codemirror_mode": {
    "name": "ipython",
    "version": 3
   },
   "file_extension": ".py",
   "mimetype": "text/x-python",
   "name": "python",
   "nbconvert_exporter": "python",
   "pygments_lexer": "ipython3",
   "version": "3.7.6"
  }
 },
 "nbformat": 4,
 "nbformat_minor": 4
}
